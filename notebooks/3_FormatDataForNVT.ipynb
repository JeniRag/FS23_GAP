{
 "cells": [
  {
   "cell_type": "markdown",
   "id": "1321c5a7-c727-415b-9db2-3e26df1997b5",
   "metadata": {},
   "source": [
    "# Formatting data to use as input for i-Pi simulation"
   ]
  },
  {
   "cell_type": "code",
   "execution_count": 1,
   "id": "27dc6a4f-8ec2-4755-9411-1cac3f46bdee",
   "metadata": {},
   "outputs": [],
   "source": [
    "import numpy as np\n",
    "import re\n",
    "import ase.units\n",
    "from tqdm.notebook import tqdm\n",
    "\n",
    "import ase.io as ase_io\n",
    "import os\n",
    "import sys\n",
    "\n",
    "sys.path.append('../Functions/')\n",
    "from FileWriting import rewrite_files_for_dynamics\n",
    "from my_utilis import rs_to_gcm3"
   ]
  },
  {
   "cell_type": "code",
   "execution_count": 2,
   "id": "bb96a6a2-155e-4ee4-b722-d8dddc20241c",
   "metadata": {},
   "outputs": [],
   "source": [
    "reference_data_path=\"../data/NVT_reference\" #path where reference inputs are stored\n",
    "save_path =\"../dynamics/inputs\" #path where you want to store the new format"
   ]
  },
  {
   "cell_type": "code",
   "execution_count": 3,
   "id": "426a0898-30fe-4e49-b72e-39704a2c8669",
   "metadata": {},
   "outputs": [
    {
     "data": {
      "application/vnd.jupyter.widget-view+json": {
       "model_id": "a8ab94194d254cf2b594330f54c41527",
       "version_major": 2,
       "version_minor": 0
      },
      "text/plain": [
       "Temperatures:   0%|          | 0/1 [00:00<?, ?it/s]"
      ]
     },
     "metadata": {},
     "output_type": "display_data"
    },
    {
     "data": {
      "application/vnd.jupyter.widget-view+json": {
       "model_id": "5047b99a9db94b1d9ab9f16914363bc2",
       "version_major": 2,
       "version_minor": 0
      },
      "text/plain": [
       "data:   0%|          | 0/4 [00:00<?, ?it/s]"
      ]
     },
     "metadata": {},
     "output_type": "display_data"
    }
   ],
   "source": [
    "Temperatures = os.listdir(reference_data_path)\n",
    "#loop over Temperature\n",
    "for T in tqdm(Temperatures, desc=\"Temperatures\"):\n",
    "    data_path = f\"{reference_data_path}/{T}/\" \n",
    "    #loop over the data\n",
    "    for files in tqdm(os.listdir(data_path), desc=\"data\"):\n",
    "        if files.endswith(\".out\"):\n",
    "            pattern =  r\"rho(\\d+\\.\\d+)\"\n",
    "            match = re.search(pattern, files)\n",
    "            if match:\n",
    "                rho = float(match.group(1))\n",
    "                save_file_to = f\"{save_path}/{T}/rho{rho}/\" #define where you want to store it e.g /T1000K/rho0.3/\n",
    "                rewrite_files_for_dynamics(data_path+files, save_file_to)"
   ]
  },
  {
   "cell_type": "markdown",
   "id": "2f139031-688b-42b0-80e6-273eedec85de",
   "metadata": {},
   "source": [
    "## Assertion"
   ]
  },
  {
   "cell_type": "code",
   "execution_count": 7,
   "id": "31cb5a70-a104-410b-bd91-65ab8cad93d3",
   "metadata": {},
   "outputs": [],
   "source": [
    "frames_ref = ase_io.read(f\"{reference_data_path}/T1000K/md.T1000_rho1.0.out\", index = 0)\n",
    "frames_new = ase_io.read(f\"{save_path}/T1000K/rho1.0/pos.xyz\")\n",
    "assert( np.all( frames_ref.get_positions() - frames_new.get_positions()< 1e-5) )"
   ]
  },
  {
   "cell_type": "code",
   "execution_count": null,
   "id": "1f5666ba-050d-40d7-b527-caf23584076b",
   "metadata": {},
   "outputs": [],
   "source": []
  }
 ],
 "metadata": {
  "kernelspec": {
   "display_name": "Python 3 (ipykernel)",
   "language": "python",
   "name": "python3"
  },
  "language_info": {
   "codemirror_mode": {
    "name": "ipython",
    "version": 3
   },
   "file_extension": ".py",
   "mimetype": "text/x-python",
   "name": "python",
   "nbconvert_exporter": "python",
   "pygments_lexer": "ipython3",
   "version": "3.8.10"
  }
 },
 "nbformat": 4,
 "nbformat_minor": 5
}
