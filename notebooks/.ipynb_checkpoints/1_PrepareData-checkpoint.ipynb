{
 "cells": [
  {
   "cell_type": "code",
   "execution_count": 45,
   "id": "ad53fedc-59c5-41e5-b820-7ed634e8e8eb",
   "metadata": {
    "tags": []
   },
   "outputs": [],
   "source": [
    "import numpy as np\n",
    "\n",
    "from tqdm.notebook import tnrange, tqdm\n",
    "import matplotlib.pyplot as plt\n",
    "\n",
    "import re\n",
    "import os\n",
    "import pickle\n",
    "\n",
    "import ase.io as ase_io\n",
    "\n",
    "import ase.units as ase_units\n",
    "\n",
    "import sys\n",
    "sys.path.append('../Functions/')\n",
    "from my_utilis import random_forces_index, rs_to_gcm3"
   ]
  },
  {
   "cell_type": "code",
   "execution_count": 46,
   "id": "4ca44080-a1a7-4031-be29-c88ce1c09978",
   "metadata": {
    "tags": []
   },
   "outputs": [],
   "source": [
    "au_to_angstrom = 0.529177249\n",
    "Ry_to_eV = ase_units.Ry  #13.605703976"
   ]
  },
  {
   "cell_type": "markdown",
   "id": "2e1aefba-699c-40ef-8851-1b0056f2ae04",
   "metadata": {
    "tags": []
   },
   "source": [
    "## Check if units are correct"
   ]
  },
  {
   "cell_type": "markdown",
   "id": "e6981f99-24a7-4eb6-b5ff-be48decd98df",
   "metadata": {},
   "source": [
    "Desired units \n",
    "* cell length: angstrom \n",
    "* positions: angstrom \n",
    "* energy: eV \n",
    "* forces: eV/angstrom "
   ]
  },
  {
   "cell_type": "code",
   "execution_count": 54,
   "id": "e5172e5a-67c2-4428-93bf-c0d0abda10a4",
   "metadata": {
    "tags": []
   },
   "outputs": [
    {
     "name": "stdout",
     "output_type": "stream",
     "text": [
      "     lattice parameter (alat)  =       9.6674  a.u.\n",
      "\n",
      "     site n.     atom                  positions (alat units)\n",
      "\n",
      "!    total energy              =    -121.93030449 Ry\n",
      "\n",
      "     Forces acting on atoms (cartesian axes, Ry/au):\n",
      "\n"
     ]
    }
   ],
   "source": [
    "data_path = \"../data/data_parac_pbe_small1/\"\n",
    "test_file = data_path+ \"T500/rs1.190/scf.250.out\"\n",
    "        \n",
    "frame = ase_io.read(test_file)\n",
    "\n",
    "file = open(test_file, \"r\")\n",
    "lines = file.readlines()\n",
    "file.close()\n",
    "\n",
    "energies=[]\n",
    "energies_line=[]\n",
    "for i,line in enumerate(lines):\n",
    "    \n",
    "    match_celldim = re.search(r'lattice parameter \\(alat\\)  =\\s+(\\d+\\.\\d+)\\s+(\\w+\\.\\w+)', line)\n",
    "    match_energy = re.search(r\"total energy\\s+=\\s+(-?\\d+\\.\\d+)\", line)\n",
    "    match_position_start = re.search(r'site\\s+n\\.\\s+atom\\s+positions', line)\n",
    "    match_forces_start = re.search(r\"Forces\\s+acting\\s+on\\s+atoms\", line)\n",
    "    \n",
    "    #extract cell dimension\n",
    "    if match_celldim:\n",
    "        length = float(match_celldim.group(1))\n",
    "        print(line)\n",
    "    \n",
    "    #extract energy \n",
    "    if match_energy:\n",
    "        energies.append( float(match_energy.group(1)) )\n",
    "        energies_line.append(i)\n",
    "     \n",
    "    #extract position information start\n",
    "    if match_position_start:\n",
    "        position_start = i+1\n",
    "    \n",
    "    #extract force information start\n",
    "    if match_forces_start:\n",
    "        forces_start = i+2\n",
    "        \n",
    "\n",
    "\n",
    "# check units of cell dimension\n",
    "assert( np.abs(frame.cell.lengths()[0] - length * au_to_angstrom) < 1e-5) #au correctly converted to angstrom\n",
    "\n",
    "# check units of positions\n",
    "# extract floats from the string\n",
    "matches = re.findall(r'[-+]?\\d*\\.\\d+', lines[position_start])\n",
    "positions = np.array([float(match) for match in matches]) #extracts position of first atom\n",
    "print(lines[position_start-1])\n",
    "assert(np.all(np.abs(frame.get_positions()[0] - positions * length * au_to_angstrom ) <1e-5) ) #alat correctly converted to angstrom\n",
    "\n",
    "#check units of energy\n",
    "print( lines[energies_line[-1] ] )\n",
    "energy = energies[-1] #take last energy value\n",
    "assert(np.abs(frame.get_total_energy() - energy * Ry_to_eV) <1e-3) #Ry correctly converted to eV\n",
    "\n",
    "#check forces\n",
    "print(lines[forces_start - 2])\n",
    "matches = re.findall(r'[-+]?\\d*\\.\\d+', lines[forces_start])\n",
    "forces = np.array([float(match) for match in matches]) \n",
    "assert(np.all( np.abs(frame.get_forces()[0] - forces * Ry_to_eV/au_to_angstrom ) <1e-5) ) #Ry/au correctly converted to eV/angstrom\n",
    "\n"
   ]
  },
  {
   "cell_type": "markdown",
   "id": "8f3081b0-db8b-44c6-b75e-32f3e1486ea4",
   "metadata": {
    "tags": []
   },
   "source": [
    "## load frames and save it"
   ]
  },
  {
   "cell_type": "markdown",
   "id": "8f433fdb-c5c4-4596-ad92-9ffece747092",
   "metadata": {},
   "source": [
    "## train set"
   ]
  },
  {
   "cell_type": "code",
   "execution_count": 13,
   "id": "4e31b127-4653-4288-8736-b59e47d0e5d1",
   "metadata": {
    "tags": []
   },
   "outputs": [],
   "source": [
    "#data_paths = [\"../data/data_parac_pbe_small1/\", \"../data/data2_pbe/\", \"../data/data3_pbe/\", \"../data/NVT_conf/batch1/\"]\n",
    "data_paths = [\"../data/data_parac_pbe_small1/\"]"
   ]
  },
  {
   "cell_type": "code",
   "execution_count": 14,
   "id": "0695f59a-bd6b-4c0b-9f52-17f1ec133cf4",
   "metadata": {},
   "outputs": [
    {
     "data": {
      "application/vnd.jupyter.widget-view+json": {
       "model_id": "86ee904841bf4291b0e635dc97f83e28",
       "version_major": 2,
       "version_minor": 0
      },
      "text/plain": [
       "  0%|          | 0/1 [00:00<?, ?it/s]"
      ]
     },
     "metadata": {},
     "output_type": "display_data"
    },
    {
     "data": {
      "application/vnd.jupyter.widget-view+json": {
       "model_id": "711c548408584c5ab891976beaf552c0",
       "version_major": 2,
       "version_minor": 0
      },
      "text/plain": [
       "  0%|          | 0/9 [00:00<?, ?it/s]"
      ]
     },
     "metadata": {},
     "output_type": "display_data"
    },
    {
     "name": "stdout",
     "output_type": "stream",
     "text": [
      "990_frames\n"
     ]
    }
   ],
   "source": [
    "Temperature_list=[]\n",
    "density_list=[]\n",
    "frames = []\n",
    "data_index=[]\n",
    "\n",
    "#loop the different data directories\n",
    "for d,data_path in enumerate(tqdm(data_paths)):\n",
    "    Temperatures = os.listdir(data_path)\n",
    "\n",
    "    #loop for different Temperature folders\n",
    "    for T in tqdm(Temperatures):\n",
    "        density_files = os.listdir(data_path + T)\n",
    "\n",
    "        #loop different density folders\n",
    "        for d_f in density_files:\n",
    "            load_path = data_path + f\"T{T}/{d_f}\"\n",
    "            configuration_files = os.listdir(data_path + f\"{T}/{d_f}/\")\n",
    "\n",
    "            #loop different configuration files\n",
    "            for conf_file in configuration_files:\n",
    "                \n",
    "                if conf_file.endswith(\".out\"):\n",
    "                    #read frames and append to the list\n",
    "                    frame = ase_io.read(data_path + f\"{T}/{d_f}/{conf_file}\")\n",
    "                    frames.append(frame)\n",
    "                    #store Temperature and density just in case we need (density not necessary, since it can be calculated from frames anyways)\n",
    "                    Temperature_list.append( int(re.search(r'\\d+', T).group()) )\n",
    "                    density_list.append(  float(re.search(f\"\\d+\\.\\d+\", d_f).group()) )\n",
    "\n",
    "                    #store in which data group it belonged, in case we need it\n",
    "                    data_index.append(d)\n",
    "\n",
    "folder =f\"{len(frames)}_frames\"\n",
    "print(folder)\n"
   ]
  },
  {
   "cell_type": "code",
   "execution_count": 15,
   "id": "fb2c0abf-b0f6-4728-ade6-8e7a890e867a",
   "metadata": {
    "tags": []
   },
   "outputs": [],
   "source": [
    "destination_dir = f\"../frames_data/{folder}/\"\n",
    "if not os.path.exists(destination_dir):\n",
    "    os.makedirs(destination_dir)\n",
    "    \n",
    "## save the frames in extended XYZ format\n",
    "ase_io.write(f\"../frames_data/{folder}/frames.xyz\", frames, format=\"extxyz\")\n",
    "#save density and T info for each frame\n",
    "np.save(f\"../frames_data/{folder}/Temperatures.npy\", Temperature_list) #stored as K\n",
    "np.save(f\"../frames_data/{folder}/Densities.npy\", density_list) #stored as rs\n",
    "np.save(f\"../frames_data/{folder}/DataIndex.npy\", data_index)\n"
   ]
  },
  {
   "cell_type": "markdown",
   "id": "476373d4-160d-4998-b777-72efd94d579c",
   "metadata": {},
   "source": [
    "## test set"
   ]
  },
  {
   "cell_type": "code",
   "execution_count": null,
   "id": "430a17eb-0865-4077-b842-6b4176d948d8",
   "metadata": {},
   "outputs": [],
   "source": [
    "data_paths = [\"../data/data_parac_pbe_small2/\"]"
   ]
  },
  {
   "cell_type": "code",
   "execution_count": null,
   "id": "7e27ce33-7ba3-49db-bc47-66ef6814fc9a",
   "metadata": {},
   "outputs": [],
   "source": [
    "Temperature_list=[]\n",
    "density_list=[]\n",
    "frames = []\n",
    "data_index=[]\n",
    "\n",
    "for d,data_path in enumerate(tqdm(data_paths)):\n",
    "    Temperatures = os.listdir(data_path)\n",
    "    for T in tqdm(Temperatures):\n",
    "        density_files = os.listdir(data_path + T)\n",
    "        for d_f in density_files:\n",
    "            load_path = data_path + f\"T{T}/{d_f}\"\n",
    "            configuration_files = os.listdir(data_path + f\"{T}/{d_f}/\")\n",
    "            for conf_file in configuration_files:\n",
    "                if conf_file.endswith(\".out\"):\n",
    "                    frame = ase_io.read(data_path + f\"{T}/{d_f}/{conf_file}\")\n",
    "                    frames.append(frame)\n",
    "                    Temperature_list.append( int(re.search(r'\\d+', T).group()) )\n",
    "                    density_list.append(  float(re.search(f\"\\d+\\.\\d+\", d_f).group()) )\n",
    "                    data_index.append(d)"
   ]
  },
  {
   "cell_type": "code",
   "execution_count": null,
   "id": "2573216b-4c69-4682-bb23-fd60be461b92",
   "metadata": {},
   "outputs": [],
   "source": [
    "folder=\"frames_test\"\n",
    "\n",
    "destination_dir = f\"../{folder}/frames_test\"\n",
    "if not os.path.exists(destination_dir):\n",
    "    os.makedirs(destination_dir)\n",
    "    \n",
    "## save the frames in extended XYZ format\n",
    "ase_io.write(f\"../frames_data/{folder}/frames_test.xyz\", frames, format=\"extxyz\")\n",
    "#save density and T info for each frame\n",
    "np.save(f\"../frames_data/{folder}/Temperatures.npy\", Temperature_list) #stored as K\n",
    "np.save(f\"../frames_data/{folder}/Densities.npy\", density_list) #stored as rs\n",
    "np.save(f\"../frames_data/{folder}/DataIndex.npy\", data_index)\n"
   ]
  },
  {
   "cell_type": "markdown",
   "id": "dc0cd39b-84b6-421a-a9ab-b4b4c34281b2",
   "metadata": {},
   "source": [
    "# Force indexes"
   ]
  },
  {
   "cell_type": "markdown",
   "id": "73e04754-3223-46c9-abf0-dd8c23e7608e",
   "metadata": {},
   "source": [
    "Create the force indexes and save them"
   ]
  },
  {
   "cell_type": "code",
   "execution_count": 8,
   "id": "1ebfed34-a970-44bb-b15c-f581fa633f6b",
   "metadata": {
    "tags": []
   },
   "outputs": [],
   "source": [
    "#create and save force indices for train set\n",
    "frames_folder = \"990_frames\"\n",
    "frames = ase_io.read(f\"../frames_data/{frames_folder}/frames.xyz\", index = \":\")\n",
    "\n",
    "#create fore indexes and save them\n",
    "Nforces=10\n",
    "force_idx = random_forces_index(frames, Nforces, seed=10)\n",
    "np.save(f\"../frames_data/{frames_folder}/random_train_{Nforces}indices.npy\",force_idx)\n"
   ]
  },
  {
   "cell_type": "code",
   "execution_count": 9,
   "id": "b705a107-9753-4c5e-9877-622b4a8fa294",
   "metadata": {
    "tags": []
   },
   "outputs": [],
   "source": [
    "#create and save force indices for test set\n",
    "frames_test = ase_io.read(f\"../frames_data/frames_test/frames.xyz\", index = \":\")\n",
    "\n",
    "#create fore indexes and save them\n",
    "Nforces=10\n",
    "force_idx_test = random_forces_index(frames, Nforces, seed=10)\n",
    "np.save(f\"../frames_data/{frames_folder}/random_train_{Nforces}indices.npy\",force_idx_test)"
   ]
  },
  {
   "cell_type": "markdown",
   "id": "ebbfe208-6581-4f6d-bdef-d65fd71dda0d",
   "metadata": {},
   "source": [
    "# Distribution Plot"
   ]
  },
  {
   "cell_type": "code",
   "execution_count": 41,
   "id": "d053c523-ced1-4f35-aa6b-4feba2a785f1",
   "metadata": {},
   "outputs": [],
   "source": [
    "from collections import Counter\n",
    "\n",
    "def distribution_plot(fig, T_list, rho_list, title=\"\"):\n",
    "    label_size=13\n",
    "    tick_size=12\n",
    "    title_size=15\n",
    "    \n",
    "    density_bins = 25\n",
    "    T_bins= 20\n",
    "\n",
    "    \n",
    "    gs = fig.add_gridspec(ncols=3, nrows=3, \n",
    "                          left=0.1, right=0.9, bottom=0.1, top=0.9,\n",
    "                          wspace=0.05, hspace=0.05)\n",
    "    \n",
    "    plt.suptitle(title, size=title_size)\n",
    "    # Combine Temperature_list and density_list into pairs\n",
    "    data_pairs = list(zip(T_list, rho_list))\n",
    "    \n",
    "    # Calculate the counts of each (Temperature, Density) pair\n",
    "    point_counts = Counter(data_pairs)\n",
    "    \n",
    "    # Convert the Counter dictionary values to a list\n",
    "    point_counts = np.array([point_counts[pair] for pair in data_pairs])\n",
    "     \n",
    "    normalized_sizes = point_counts / np.max(point_counts) *2\n",
    "    \n",
    "    # Scatterplot axes\n",
    "    ax = fig.add_subplot(gs[:2, 1:])\n",
    "    #histogram axes\n",
    "    ax_histy = fig.add_subplot(gs[:2, 0])\n",
    "    ax_histx = fig.add_subplot(gs[-1, 1:])\n",
    "\n",
    "    #Scatterplot\n",
    "    ax.scatter(T_list, rho_list,  s=normalized_sizes, c=\"coral\")\n",
    "    \n",
    "    xlim = [T_list.min()-500, T_list.max()+500]\n",
    "    ylim = [rho_list.min()-0.1, rho_list.max()+0.1]\n",
    "    ax.set_xlim(xlim)\n",
    "    ax.set_ylim(ylim)\n",
    "    \n",
    "    # Remove ticks and labels from scatter plot\n",
    "    ax.set_xticks([])\n",
    "    ax.set_yticks([])\n",
    "    ax.set_xticklabels([])\n",
    "    ax.set_yticklabels([])\n",
    "    \n",
    "\n",
    "    #Histogram\n",
    "    ax_histx.hist(T_list, bins =T_bins, orientation=\"vertical\", color = \"darkorange\")\n",
    "    ax_histx.set_xlabel(\"Temperature [K]\", size=label_size)\n",
    "    ax_histx.set_xlim(xlim)\n",
    "    ax_histx.tick_params( labelsize=tick_size)\n",
    "    \n",
    "    ax_histx.yaxis.set_label_position(\"right\")\n",
    "    ax_histx.yaxis.tick_right()\n",
    "    \n",
    "    ax_histy.hist(rho_list, bins=density_bins, orientation=\"horizontal\", color=\"darkorange\")\n",
    "    ax_histy.set_ylabel(\"Density [$g/cm^3$]\", size = label_size)\n",
    "    ax_histy.set_ylim(ylim)\n",
    "    ax_histy.tick_params( labelsize=tick_size)\n",
    "    ax_histy.xaxis.set_label_position(\"top\")\n",
    "    ax_histy.xaxis.tick_top()\n",
    "       \n",
    "    plt.show()"
   ]
  },
  {
   "cell_type": "code",
   "execution_count": 42,
   "id": "b10b8aba-be51-45ba-9dfc-aff571c9c10b",
   "metadata": {},
   "outputs": [
    {
     "data": {
      "image/png": "[encoded data removed]",
      "text/plain": [
       "<Figure size 600x600 with 3 Axes>"
      ]
     },
     "metadata": {},
     "output_type": "display_data"
    },
    {
     "data": {
      "image/png": "[encoded data removed]",
      "text/plain": [
       "<Figure size 600x600 with 3 Axes>"
      ]
     },
     "metadata": {},
     "output_type": "display_data"
    }
   ],
   "source": [
    "#Training set\n",
    "folder=\"990_frames\"\n",
    "T_list =np.load(f\"../frames_data/{folder}/Temperatures.npy\")\n",
    "rho_list=rs_to_gcm3(np.load(f\"../frames_data/{folder}/Densities.npy\"))\n",
    "\n",
    "#test set\n",
    "T_list_test =np.load(f\"../frames_data/frames_test/Temperatures.npy\")\n",
    "rho_list_test=rs_to_gcm3(np.load(f\"../frames_data/frames_test/Densities.npy\"))\n",
    "\n",
    "\n",
    "\n",
    "# Start with a square Figure.\n",
    "size=(6,6)\n",
    "fig = plt.figure(figsize=size)\n",
    "distribution_plot(fig, T_list, rho_list, title=\"Training Set\")\n",
    "fig = plt.figure(figsize=size)\n",
    "distribution_plot(fig, T_list_test, rho_list_test, title=\"Test Set\")"
   ]
  },
  {
   "cell_type": "code",
   "execution_count": null,
   "id": "b3af3821-f131-4d41-8c42-d8fe2b743cd8",
   "metadata": {},
   "outputs": [],
   "source": []
  }
 ],
 "metadata": {
  "kernelspec": {
   "display_name": "Python 3 (ipykernel)",
   "language": "python",
   "name": "python3"
  },
  "language_info": {
   "codemirror_mode": {
    "name": "ipython",
    "version": 3
   },
   "file_extension": ".py",
   "mimetype": "text/x-python",
   "name": "python",
   "nbconvert_exporter": "python",
   "pygments_lexer": "ipython3",
   "version": "3.8.10"
  }
 },
 "nbformat": 4,
 "nbformat_minor": 5
}
